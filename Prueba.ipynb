{
 "cells": [
  {
   "attachments": {},
   "cell_type": "markdown",
   "metadata": {},
   "source": [
    "## Librerias"
   ]
  },
  {
   "cell_type": "code",
   "execution_count": 5,
   "metadata": {},
   "outputs": [],
   "source": [
    "import random as rn\n",
    "import numpy as np"
   ]
  },
  {
   "attachments": {},
   "cell_type": "markdown",
   "metadata": {},
   "source": [
    " Vectores\n",
    "* v -> valores de los elementos\n",
    "* p ->contiene los pesos de cada uno de los elementos"
   ]
  },
  {
   "cell_type": "code",
   "execution_count": 6,
   "metadata": {},
   "outputs": [],
   "source": [
    "v = np.array([20, 4, 25, 2, 8])\n",
    "p = np.array([10, 2, 14, 8, 5])"
   ]
  },
  {
   "attachments": {},
   "cell_type": "markdown",
   "metadata": {},
   "source": [
    "## Función Objetivo\n",
    "Maximizar el valor"
   ]
  },
  {
   "cell_type": "code",
   "execution_count": 7,
   "metadata": {},
   "outputs": [],
   "source": [
    "def Costo(sol,size):\n",
    "    f=0\n",
    "    for i in range(size):\n",
    "        if sol[i] == 1:\n",
    "            f+=v[i]\n",
    "    return f"
   ]
  },
  {
   "attachments": {},
   "cell_type": "markdown",
   "metadata": {},
   "source": [
    "## Solución vecino\n",
    "Para generar una solución vecino, el programa recorre el vector de soluciones, se genera también un número entre 0 y 1."
   ]
  },
  {
   "cell_type": "code",
   "execution_count": 8,
   "metadata": {},
   "outputs": [],
   "source": [
    "def Genera_Vecino(sol, size, cap):\n",
    "    r = rn.randint(0, size-1)\n",
    "\n",
    "    if sol[r] == 0:\n",
    "        sol[r] = 1\n",
    "    else:\n",
    "        sol[r] = 0\n",
    "    pSol = pesos(sol, size)\n",
    "    while pSol > cap:\n",
    "        i = rn.randint(0, size-1)\n",
    "        sol[i] = 0\n",
    "        pSol = pesos(sol, size)\n",
    "\n",
    "    return sol\n",
    "\n",
    "\n",
    "def pesos(sol, size):\n",
    "    f = 0\n",
    "    for i in range(size):\n",
    "        if sol[i] == 1:\n",
    "            f += p[i]\n",
    "    return f\n"
   ]
  },
  {
   "attachments": {},
   "cell_type": "markdown",
   "metadata": {},
   "source": [
    "## Ejecución"
   ]
  },
  {
   "cell_type": "code",
   "execution_count": 17,
   "metadata": {},
   "outputs": [
    {
     "name": "stdout",
     "output_type": "stream",
     "text": [
      "[0, 0, 1, 0, 1]\n",
      "[0, 0, 1, 0, 0]\n",
      "[0, 0, 1, 1, 0]\n",
      "[0, 1, 1, 1, 0]\n",
      "[0, 1, 1, 1, 0]\n"
     ]
    }
   ],
   "source": [
    "cap = 30\n",
    "c = 70\n",
    "sol = [1, 0, 1, 0, 1]\n",
    "i = 0\n",
    "while i < 5:\n",
    "    if c > cap:\n",
    "        sol = Genera_Vecino(sol, len(sol), cap)\n",
    "    i += 1\n",
    "    print(sol)\n",
    "\n"
   ]
  }
 ],
 "metadata": {
  "kernelspec": {
   "display_name": "entornoShastic",
   "language": "python",
   "name": "python3"
  },
  "language_info": {
   "codemirror_mode": {
    "name": "ipython",
    "version": 3
   },
   "file_extension": ".py",
   "mimetype": "text/x-python",
   "name": "python",
   "nbconvert_exporter": "python",
   "pygments_lexer": "ipython3",
   "version": "3.10.9"
  },
  "orig_nbformat": 4
 },
 "nbformat": 4,
 "nbformat_minor": 2
}
